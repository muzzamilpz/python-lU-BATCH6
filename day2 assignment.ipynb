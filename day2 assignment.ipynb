{
 "cells": [
  {
   "cell_type": "markdown",
   "metadata": {},
   "source": [
    "DAY 2 ASSIGNMENTS\n",
    "\n",
    "\n",
    "\n",
    "FIRST THINGS FIRST\n",
    "\n",
    "\n",
    "1)print() \n",
    "\n",
    "it is function used to print something in your program like text..etc\n",
    "\n",
    "\n",
    "in that print function we can do some manipulation.\n",
    "\n",
    "\n",
    "\\n- for next line\n",
    "\n",
    "\\t- tab that means its gives you space in between the elements\n",
    "\n",
    "and the fun part is \\a if u give print(\"hello\\a\")\n",
    "\n",
    "it produces a alret sound,that sounds totally crazy for me . \n",
    "\n",
    "\n",
    "how to print values \n",
    "\n",
    "\n",
    "name =\"Muzzamil\"\n",
    "marks =90.867\n",
    "age= 20\n",
    "\n",
    "print(\"My name is \",name,\"i am\",age,\"year old adult and my mark is\",marks)"
   ]
  },
  {
   "cell_type": "code",
   "execution_count": 1,
   "metadata": {},
   "outputs": [
    {
     "name": "stdout",
     "output_type": "stream",
     "text": [
      "My name is  Muzzamil i am 20 year old adult and my mark is 90.867\n"
     ]
    }
   ],
   "source": [
    "name =\"Muzzamil\"\n",
    "marks =90.867\n",
    "age= 20\n",
    "\n",
    "print(\"My name is \",name,\"i am\",age,\"year old adult and my mark is\",marks)\n",
    "\n"
   ]
  },
  {
   "cell_type": "markdown",
   "metadata": {},
   "source": [
    "you can aslo use instead of ,, in between the statement\n",
    "\n",
    "\n",
    "example:\n",
    "print(My name is %10s i am %d year old adult and my mark is %f)\n",
    "\n",
    "\n"
   ]
  },
  {
   "cell_type": "code",
   "execution_count": 6,
   "metadata": {},
   "outputs": [
    {
     "name": "stdout",
     "output_type": "stream",
     "text": [
      "My name is Muzzamil i am 90 year old adult and my mark is 20.000000\n"
     ]
    }
   ],
   "source": [
    "print(\"My name is %s i am %d year old adult and my mark is %f\"%(name,marks,age))"
   ]
  },
  {
   "cell_type": "code",
   "execution_count": 7,
   "metadata": {},
   "outputs": [
    {
     "name": "stdout",
     "output_type": "stream",
     "text": [
      "my name is Muzzamil the marks is 90.867 age is 20 \n"
     ]
    }
   ],
   "source": [
    "print(f\"my name is {name} the marks is {marks} age is {age} \")"
   ]
  },
  {
   "cell_type": "markdown",
   "metadata": {},
   "source": [
    "# if you want to see the Ram address id(x)\n",
    "\n",
    "140721755038704\n",
    "\n",
    "\n",
    "del x = deleting the variable\n",
    "\n",
    "\n",
    "\n",
    "next topic is Arithmetic \n",
    "\n",
    "+,-,*,/,//\n",
    "\n",
    "floor divison  is something  that after performing  divison it returns the lower integer value as the result\n",
    "\n",
    "Eg: 10//3 \n",
    "output:3\n",
    "\n",
    "comparison operator:-\n",
    "always returns the value whether true or false.\n",
    "Eg 0 or 1 \n",
    "0- flase \n",
    "1- true\n",
    "\n",
    "other comparison operator are ==,>=,<=,>,<,!=\n",
    "\n",
    "Assignment operator \n",
    "+=\n",
    "-=\n",
    "\n",
    "bitwise operator:-\n",
    "I = or\n",
    "& = and\n",
    "~ = not\n",
    "^ = exponent\n",
    "<< = binary left shift\n",
    ">> = binary right shift\n",
    "\n",
    "\n",
    "bin (a)\n",
    "a = 240\n",
    "b = 1\n",
    "  a|b \n",
    "\n",
    "\n",
    "interview questions :\n",
    "\n",
    "10>9 and 20 > m\n",
    "\n",
    "false.\n",
    "\n",
    "Because the and operator find flase here if never checks the second expression\n",
    "\n",
    "\n",
    "\n",
    "\n",
    "Membership operator :-\n",
    "Check the membership in the defined value\n",
    "\n",
    "str1 = \"pythonprogramming\"\n",
    "\n",
    "\"a\" in str1\n",
    "\n",
    "\n"
   ]
  },
  {
   "cell_type": "code",
   "execution_count": 8,
   "metadata": {},
   "outputs": [
    {
     "data": {
      "text/plain": [
       "True"
      ]
     },
     "execution_count": 8,
     "metadata": {},
     "output_type": "execute_result"
    }
   ],
   "source": [
    "str1 = \"pythonprogramming\"\n",
    "\n",
    "\"a\" in str1\n"
   ]
  },
  {
   "cell_type": "code",
   "execution_count": 9,
   "metadata": {},
   "outputs": [
    {
     "ename": "SyntaxError",
     "evalue": "invalid syntax (<ipython-input-9-fddffa0b160b>, line 1)",
     "output_type": "error",
     "traceback": [
      "\u001b[1;36m  File \u001b[1;32m\"<ipython-input-9-fddffa0b160b>\"\u001b[1;36m, line \u001b[1;32m1\u001b[0m\n\u001b[1;33m    as same as \"not in\"\u001b[0m\n\u001b[1;37m     ^\u001b[0m\n\u001b[1;31mSyntaxError\u001b[0m\u001b[1;31m:\u001b[0m invalid syntax\n"
     ]
    }
   ],
   "source": [
    "as same as \"not in\"\n",
    "\n",
    "\n",
    "str1 = \"pythonprogramming\"\n",
    "\n",
    "\"x\" not in str1"
   ]
  },
  {
   "cell_type": "code",
   "execution_count": 10,
   "metadata": {},
   "outputs": [
    {
     "data": {
      "text/plain": [
       "True"
      ]
     },
     "execution_count": 10,
     "metadata": {},
     "output_type": "execute_result"
    }
   ],
   "source": [
    "str1 = \"pythonprogramming\"\n",
    "\n",
    "\"x\" not in str1"
   ]
  },
  {
   "cell_type": "code",
   "execution_count": 11,
   "metadata": {},
   "outputs": [
    {
     "ename": "SyntaxError",
     "evalue": "invalid syntax (<ipython-input-11-84ebe1f4b39e>, line 1)",
     "output_type": "error",
     "traceback": [
      "\u001b[1;36m  File \u001b[1;32m\"<ipython-input-11-84ebe1f4b39e>\"\u001b[1;36m, line \u001b[1;32m1\u001b[0m\n\u001b[1;33m    identity operators\u001b[0m\n\u001b[1;37m                     ^\u001b[0m\n\u001b[1;31mSyntaxError\u001b[0m\u001b[1;31m:\u001b[0m invalid syntax\n"
     ]
    }
   ],
   "source": [
    "identity operators \n",
    "\n",
    "\n",
    "\n",
    "\n",
    "\n"
   ]
  },
  {
   "cell_type": "code",
   "execution_count": 12,
   "metadata": {},
   "outputs": [
    {
     "data": {
      "text/plain": [
       "True"
      ]
     },
     "execution_count": 12,
     "metadata": {},
     "output_type": "execute_result"
    }
   ],
   "source": [
    "a =10\n",
    "b = 10\n",
    "a==b"
   ]
  },
  {
   "cell_type": "markdown",
   "metadata": {},
   "source": [
    "but if you to know where it stored in the memory that means\n",
    "\n",
    "\n",
    "\n",
    "a is b\n",
    "\n",
    "\n",
    "but gives false because they are stored in different memory allocation\n",
    "\n",
    "\n",
    "\n",
    "10 + 10/29*4\n",
    "\n",
    "\n"
   ]
  }
 ],
 "metadata": {
  "kernelspec": {
   "display_name": "Python 3",
   "language": "python",
   "name": "python3"
  },
  "language_info": {
   "codemirror_mode": {
    "name": "ipython",
    "version": 3
   },
   "file_extension": ".py",
   "mimetype": "text/x-python",
   "name": "python",
   "nbconvert_exporter": "python",
   "pygments_lexer": "ipython3",
   "version": "3.7.6"
  }
 },
 "nbformat": 4,
 "nbformat_minor": 4
}

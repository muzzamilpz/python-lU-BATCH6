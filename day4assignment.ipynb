{
 "cells": [
  {
   "cell_type": "markdown",
   "metadata": {},
   "source": [
    "# Question 1 Find all the occurences of a Sub-String\n"
   ]
  },
  {
   "cell_type": "code",
   "execution_count": null,
   "metadata": {},
   "outputs": [],
   "source": [
    "# What we thing we become,we are programmers\n",
    "\n",
    "\n",
    "\n",
    "s =\"what we thing we become,we are programmers\"\n",
    "\n",
    "name =s[11:]\n",
    "print(name)"
   ]
  },
  {
   "cell_type": "code",
   "execution_count": 7,
   "metadata": {},
   "outputs": [
    {
     "name": "stdout",
     "output_type": "stream",
     "text": [
      "['what', 'we', 'thing', 'we', 'become,we', 'are', 'programmers']\n"
     ]
    }
   ],
   "source": [
    "#list substrings using spilt\n",
    "\n",
    "\n",
    "l1 =s.split()\n",
    "print(l1)\n",
    "\n",
    "\n"
   ]
  },
  {
   "cell_type": "markdown",
   "metadata": {},
   "source": [
    "#count of substring in occurence\n",
    "\n",
    "m = \"my name is Muzzamil\"\n",
    "print(\"the substring count is\",m.count('z'))\n",
    "\n",
    "\n",
    "\n"
   ]
  },
  {
   "cell_type": "code",
   "execution_count": null,
   "metadata": {},
   "outputs": [],
   "source": [
    "# print index values\n",
    "\n",
    "s =\"What we thing we become we are programmers\"\n",
    "result =s.index('we')\n",
    "print(result)\n"
   ]
  },
  {
   "cell_type": "markdown",
   "metadata": {},
   "source": [
    "# print index with specific value "
   ]
  },
  {
   "cell_type": "code",
   "execution_count": 12,
   "metadata": {},
   "outputs": [
    {
     "name": "stdout",
     "output_type": "stream",
     "text": [
      "14\n"
     ]
    }
   ],
   "source": [
    "result = s.index('we',13)\n",
    "print(result)\n",
    "\n"
   ]
  },
  {
   "cell_type": "markdown",
   "metadata": {},
   "source": [
    "# Question 2) explain islower() and is isupper() with different strings"
   ]
  },
  {
   "cell_type": "code",
   "execution_count": 13,
   "metadata": {
    "scrolled": false
   },
   "outputs": [
    {
     "name": "stdout",
     "output_type": "stream",
     "text": [
      "the lower case is False\n"
     ]
    }
   ],
   "source": [
    " s= \"hey this is Muzzamil\"\n",
    "    \n",
    "print(\"the lower case is\",s.islower())\n",
    "\n"
   ]
  },
  {
   "cell_type": "code",
   "execution_count": 14,
   "metadata": {},
   "outputs": [
    {
     "name": "stdout",
     "output_type": "stream",
     "text": [
      "check if it is Uppercase True\n"
     ]
    }
   ],
   "source": [
    "m = \"HELLO PEOPLE\"\n",
    "\n",
    "print(\"check if it is Uppercase\",m.isupper())"
   ]
  }
 ],
 "metadata": {
  "kernelspec": {
   "display_name": "Python 3",
   "language": "python",
   "name": "python3"
  },
  "language_info": {
   "codemirror_mode": {
    "name": "ipython",
    "version": 3
   },
   "file_extension": ".py",
   "mimetype": "text/x-python",
   "name": "python",
   "nbconvert_exporter": "python",
   "pygments_lexer": "ipython3",
   "version": "3.7.6"
  }
 },
 "nbformat": 4,
 "nbformat_minor": 4
}
